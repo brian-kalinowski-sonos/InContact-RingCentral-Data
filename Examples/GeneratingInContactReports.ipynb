{
 "cells": [
  {
   "cell_type": "code",
   "execution_count": 2,
   "metadata": {},
   "outputs": [],
   "source": [
    "import pandas as pd \n",
    "import sys\n",
    "sys.path.append('/Users/brian.kalinowski/IdeaProjects/RingCentralData/InContactData/')\n",
    "\n",
    "from InContactReport import InContactReport\n",
    "from timeit import default_timer"
   ]
  },
  {
   "cell_type": "code",
   "execution_count": 3,
   "metadata": {},
   "outputs": [],
   "source": [
    "# map report codes to file names\n",
    "report_lookup = {'524': 'call_detail.csv', \n",
    "                 '544': 'agent_state_log.csv', \n",
    "                 '521': 'agent_summary_minutes.csv'\n",
    "                }\n",
    "\n",
    "# start and end dates\n",
    "start = '2019-01-01'\n",
    "end = '2019-07-01'\n",
    "\n",
    "# dict of report id, report Obj\n",
    "report_struct = dict(zip(report_lookup.keys(), [None] * 3))"
   ]
  },
  {
   "cell_type": "code",
   "execution_count": 4,
   "metadata": {
    "scrolled": true
   },
   "outputs": [
    {
     "name": "stdout",
     "output_type": "stream",
     "text": [
      "REPORT: 524, (call_detail.csv)\n",
      "Running Batch: 2019-01-01 >> 2019-01-31\n",
      "Finished Batch: 2019-01-01 >> 2019-01-31\n",
      "Batch Time: 166.14s\n",
      "\n",
      "Running Batch: 2019-02-01 >> 2019-02-28\n",
      "Finished Batch: 2019-02-01 >> 2019-02-28\n",
      "Batch Time: 41.10s\n",
      "\n",
      "Running Batch: 2019-03-01 >> 2019-03-31\n",
      "Finished Batch: 2019-03-01 >> 2019-03-31\n",
      "Batch Time: 28.23s\n",
      "\n",
      "Running Batch: 2019-04-01 >> 2019-04-30\n",
      "Finished Batch: 2019-04-01 >> 2019-04-30\n",
      "Batch Time: 26.49s\n",
      "\n",
      "Running Batch: 2019-05-01 >> 2019-05-31\n",
      "Finished Batch: 2019-05-01 >> 2019-05-31\n",
      "Batch Time: 29.24s\n",
      "\n",
      "Running Batch: 2019-06-01 >> 2019-06-30\n",
      "Finished Batch: 2019-06-01 >> 2019-06-30\n",
      "Batch Time: 25.31s\n",
      "\n",
      "REPORT: 544, (agent_state_log.csv)\n",
      "Running Batch: 2019-01-01 >> 2019-01-31\n",
      "Finished Batch: 2019-01-01 >> 2019-01-31\n",
      "Batch Time: 40.29s\n",
      "\n",
      "Running Batch: 2019-02-01 >> 2019-02-28\n",
      "Finished Batch: 2019-02-01 >> 2019-02-28\n",
      "Batch Time: 35.24s\n",
      "\n",
      "Running Batch: 2019-03-01 >> 2019-03-31\n",
      "Finished Batch: 2019-03-01 >> 2019-03-31\n",
      "Batch Time: 49.60s\n",
      "\n",
      "Running Batch: 2019-04-01 >> 2019-04-30\n",
      "Finished Batch: 2019-04-01 >> 2019-04-30\n",
      "Batch Time: 33.22s\n",
      "\n",
      "Running Batch: 2019-05-01 >> 2019-05-31\n",
      "Finished Batch: 2019-05-01 >> 2019-05-31\n",
      "Batch Time: 43.95s\n",
      "\n",
      "Running Batch: 2019-06-01 >> 2019-06-30\n",
      "Finished Batch: 2019-06-01 >> 2019-06-30\n",
      "Batch Time: 36.25s\n",
      "\n",
      "REPORT: 521, (agent_summary_minutes.csv)\n",
      "Running Batch: 2019-01-01 >> 2019-01-31\n",
      "Finished Batch: 2019-01-01 >> 2019-01-31\n",
      "Batch Time: 10.29s\n",
      "\n",
      "Running Batch: 2019-02-01 >> 2019-02-28\n",
      "Finished Batch: 2019-02-01 >> 2019-02-28\n",
      "Batch Time:  8.00s\n",
      "\n",
      "Running Batch: 2019-03-01 >> 2019-03-31\n",
      "Finished Batch: 2019-03-01 >> 2019-03-31\n",
      "Batch Time:  9.31s\n",
      "\n",
      "Running Batch: 2019-04-01 >> 2019-04-30\n",
      "Finished Batch: 2019-04-01 >> 2019-04-30\n",
      "Batch Time:  8.67s\n",
      "\n",
      "Running Batch: 2019-05-01 >> 2019-05-31\n",
      "Finished Batch: 2019-05-01 >> 2019-05-31\n",
      "Batch Time:  9.47s\n",
      "\n",
      "Running Batch: 2019-06-01 >> 2019-06-30\n",
      "Finished Batch: 2019-06-01 >> 2019-06-30\n",
      "Batch Time:  7.60s\n",
      "\n"
     ]
    }
   ],
   "source": [
    "for code in report_struct.keys():\n",
    "    print('REPORT: {}, ({})'.format(code, report_lookup[code]))\n",
    "    report = InContactReport(start, end)\n",
    "    report.run_report_batches(code)\n",
    "    report_struct[code] = report.get_full_report()"
   ]
  },
  {
   "cell_type": "code",
   "execution_count": 5,
   "metadata": {},
   "outputs": [
    {
     "name": "stdout",
     "output_type": "stream",
     "text": [
      "524 (558113, 28)\n",
      "544 (1768810, 16)\n",
      "521 (36335, 18)\n"
     ]
    }
   ],
   "source": [
    "for key in report_struct.keys():\n",
    "    print(key, report_struct[key].shape)"
   ]
  },
  {
   "cell_type": "code",
   "execution_count": 11,
   "metadata": {},
   "outputs": [],
   "source": [
    "# save_path = '/Users/brian.kalinowski/Desktop/inContactData/'\n",
    "\n",
    "# # map report codes to file names and save\n",
    "# for key in report_struct.keys():\n",
    "#     path = save_path + report_lookup[key]\n",
    "#     report_struct[key].to_csv(path, index=False, header=True)"
   ]
  },
  {
   "cell_type": "code",
   "execution_count": null,
   "metadata": {},
   "outputs": [],
   "source": []
  }
 ],
 "metadata": {
  "kernelspec": {
   "display_name": "Python 3",
   "language": "python",
   "name": "python3"
  },
  "language_info": {
   "codemirror_mode": {
    "name": "ipython",
    "version": 3
   },
   "file_extension": ".py",
   "mimetype": "text/x-python",
   "name": "python",
   "nbconvert_exporter": "python",
   "pygments_lexer": "ipython3",
   "version": "3.7.6"
  }
 },
 "nbformat": 4,
 "nbformat_minor": 2
}
