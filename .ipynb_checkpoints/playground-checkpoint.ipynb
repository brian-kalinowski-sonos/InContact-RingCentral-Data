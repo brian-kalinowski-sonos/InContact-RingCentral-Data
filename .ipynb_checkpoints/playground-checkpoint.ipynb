{
 "cells": [
  {
   "cell_type": "code",
   "execution_count": 47,
   "metadata": {},
   "outputs": [],
   "source": [
    "import requests\n",
    "import json\n",
    "import pandas as pd\n",
    "from TokenManager import TokenManager\n",
    "\n",
    "token = TokenManager('creds.yml')\n",
    "\n",
    "url = \"https://api-c30.incontact.com/inContactAPI/services/v17.0/skills/sla-summary\"\n",
    "\n",
    "payload = {'startDate': '2020-01-01T00:00:00.000', \n",
    "           'endDate': '2020-01-20T00:00:00.000'}\n",
    "\n",
    "headers = {\n",
    "  'Authorization': 'Bearer {}'.format(token()),\n",
    "  'Content-Type': 'x-www-form-urlencoded',\n",
    "  'Accept': 'application/json'\n",
    "}\n",
    "\n",
    "response = requests.get(url, headers=headers, params=params)\n",
    "data = response.json()"
   ]
  },
  {
   "cell_type": "code",
   "execution_count": 35,
   "metadata": {},
   "outputs": [
    {
     "name": "stdout",
     "output_type": "stream",
     "text": [
      "200\n",
      "https://api-c30.incontact.com/inContactAPI/services/v17.0/report-jobs/datadownload/521?fileName=dumb2.csv&saveAsFile=true&includeHeaders=true&startDate=2020-02-14T00%3A00%3A00.000&endDate=2020-02-15T00%3A00%3A00.000\n"
     ]
    }
   ],
   "source": [
    "import requests\n",
    "import json\n",
    "import pandas as pd\n",
    "from TokenManager import TokenManager\n",
    "\n",
    "token = TokenManager('creds.yml')\n",
    "\n",
    "url = 'https://api-c30.incontact.com/inContactAPI/services/v17.0/report-jobs/datadownload/521'\n",
    "\n",
    "headers = {'Authorization': 'Bearer {}'.format(token()),\n",
    "           'Content-Type': 'x-www-form-urlencoded',\n",
    "           'Accept': 'application/json'\n",
    "           }\n",
    "\n",
    "params = {'fileName': 'dumb2.csv',\n",
    "          'saveAsFile': 'true',\n",
    "          'includeHeaders': 'true',\n",
    "          'startDate': '2020-02-14T00:00:00.000',\n",
    "          'endDate': '2020-02-15T00:00:00.000'\n",
    "          }\n",
    "\n",
    "response = requests.post(url, params=params, headers=headers)\n",
    "\n",
    "print(response.status_code)\n",
    "print(response.url)\n",
    "\n",
    "data = response.json()\n",
    "\n",
    "file_response = requests.get(data['URI'], headers=headers)"
   ]
  },
  {
   "cell_type": "code",
   "execution_count": 32,
   "metadata": {},
   "outputs": [
    {
     "data": {
      "text/plain": [
       "{'errorMessage': '',\n",
       " 'fileName': 'Reports\\\\dumb.csv',\n",
       " 'file': '',\n",
       " 'URI': 'https://api-c30.incontact.com/incontactapi/services/V17.0/files?fileName=Reports%5cdumb.csv'}"
      ]
     },
     "execution_count": 32,
     "metadata": {},
     "output_type": "execute_result"
    }
   ],
   "source": [
    "data"
   ]
  },
  {
   "cell_type": "code",
   "execution_count": 33,
   "metadata": {},
   "outputs": [],
   "source": [
    "file_response"
   ]
  },
  {
   "cell_type": "code",
   "execution_count": null,
   "metadata": {},
   "outputs": [],
   "source": []
  }
 ],
 "metadata": {
  "kernelspec": {
   "display_name": "Python 3",
   "language": "python",
   "name": "python3"
  },
  "language_info": {
   "codemirror_mode": {
    "name": "ipython",
    "version": 3
   },
   "file_extension": ".py",
   "mimetype": "text/x-python",
   "name": "python",
   "nbconvert_exporter": "python",
   "pygments_lexer": "ipython3",
   "version": "3.7.6"
  }
 },
 "nbformat": 4,
 "nbformat_minor": 2
}
